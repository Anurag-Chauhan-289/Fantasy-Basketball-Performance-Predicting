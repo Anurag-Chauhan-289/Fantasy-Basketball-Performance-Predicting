{
 "cells": [
  {
   "cell_type": "code",
   "execution_count": null,
   "metadata": {},
   "outputs": [],
   "source": [
    "import sys\n",
    "sys.path.append('C:\\\\Users\\\\CA015FO\\\\basketball')\n",
    "from sqlite import push_data, get_data\n",
    "from modeling import recursive_vif_optimizer, backward_elimination\n",
    "df = get_data('advanced_premodel')\n",
    "colinear_columns = [\n",
    "    'win_shares',\n",
    "    'box_plus_minus',\n",
    "    'total_rebound_percentage',\n",
    "    'fantasy_points',\n",
    "    'age',\n",
    "    'games_played',\n",
    "    'offensive_win_shares',\n",
    "    'offensive_box_plus_minus',\n",
    "    'win_shares_per_48_minutes',\n",
    "    'player_efficiency_rating',\n",
    "    'true_shooting_percentage',\n",
    "    'turnover_percentage',\n",
    "    'offensive_rebound_percentage',\n",
    "    'free_throw_attempt_rate',\n",
    "    'minutes_played',\n",
    "    'three_point_attempt_rate'\n",
    "]\n",
    "df = df.drop(columns=colinear_columns)"
   ]
  },
  {
   "cell_type": "code",
   "execution_count": null,
   "metadata": {},
   "outputs": [],
   "source": [
    "import statsmodels.api as sm\n",
    "x = df.iloc[:,:-1]\n",
    "y = df['future_fantasy_points']\n",
    "x_constant = sm.add_constant(x)\n",
    "model = sm.OLS(y, x_constant).fit()"
   ]
  },
  {
   "cell_type": "code",
   "execution_count": null,
   "metadata": {},
   "outputs": [],
   "source": [
    "from statsmodels.stats.outliers_influence import variance_inflation_factor\n",
    "import pandas as pd\n",
    "import numpy as np\n",
    "pd.options.display.max_columns = 100\n",
    "vif = [variance_inflation_factor(x_constant.values, i) for i in range(x_constant.shape[1])]\n",
    "vif_df = pd.DataFrame({'vif':vif[1:]}, index=x.columns)\n",
    "vif_df[vif_df['vif'] > 1].sort_values(by='vif', ascending=False).T"
   ]
  },
  {
   "cell_type": "code",
   "execution_count": null,
   "metadata": {},
   "outputs": [],
   "source": [
    "# corr_df = df.corr()\n",
    "# corr_df['three_point_attempt_rate'].sort_values(ascending=False)"
   ]
  },
  {
   "cell_type": "code",
   "execution_count": null,
   "metadata": {},
   "outputs": [],
   "source": [
    "# model.pvalues['three_point_attempt_rate']"
   ]
  },
  {
   "cell_type": "code",
   "execution_count": null,
   "metadata": {},
   "outputs": [],
   "source": [
    "model.summary()"
   ]
  },
  {
   "cell_type": "code",
   "execution_count": null,
   "metadata": {},
   "outputs": [],
   "source": []
  }
 ],
 "metadata": {
  "kernelspec": {
   "display_name": "Python 3",
   "language": "python",
   "name": "python3"
  },
  "language_info": {
   "codemirror_mode": {
    "name": "ipython",
    "version": 3
   },
   "file_extension": ".py",
   "mimetype": "text/x-python",
   "name": "python",
   "nbconvert_exporter": "python",
   "pygments_lexer": "ipython3",
   "version": "3.7.4"
  }
 },
 "nbformat": 4,
 "nbformat_minor": 2
}
