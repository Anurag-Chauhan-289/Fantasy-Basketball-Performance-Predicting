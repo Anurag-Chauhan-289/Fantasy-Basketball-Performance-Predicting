{
 "cells": [
  {
   "cell_type": "code",
   "execution_count": null,
   "metadata": {},
   "outputs": [],
   "source": [
    "import sys\n",
    "sys.path.append('C:\\\\Users\\\\CA015FO\\\\basketball')\n",
    "from sqlite import push_data, get_data\n",
    "from modeling import recursive_vif_optimizer, backward_elimination\n",
    "df = get_data('totals_premodel')\n",
    "colinear_columns = [\n",
    "    'points',\n",
    "    'fantasy_points',\n",
    "    'total_rebounds',\n",
    "    'made_field_goals',\n",
    "    'attempted_field_goals',\n",
    "    'field_goal_percentage',\n",
    "    'attempted_three_point_field_goals',\n",
    "    'three_point_field_goal_percentage',\n",
    "    'games_started',\n",
    "    'attempted_two_point_field_goals',\n",
    "    'two_point_field_goal_percentage',\n",
    "    'attempted_free_throws',\n",
    "    'free_throw_percentage'\n",
    "]\n",
    "df = df.drop(columns=colinear_columns)"
   ]
  },
  {
   "cell_type": "code",
   "execution_count": null,
   "metadata": {},
   "outputs": [],
   "source": [
    "x = df.iloc[:,:-1]\n",
    "y = df['future_fantasy_points']\n",
    "x_constant = sm.add_constant(x)\n",
    "model = sm.OLS(y, x_constant).fit()"
   ]
  },
  {
   "cell_type": "code",
   "execution_count": null,
   "metadata": {},
   "outputs": [],
   "source": [
    "from statsmodels.stats.outliers_influence import variance_inflation_factor\n",
    "import pandas as pd\n",
    "import numpy as np\n",
    "pd.options.display.max_columns = 100\n",
    "vif = [variance_inflation_factor(x_constant.values, i) for i in range(x_constant.shape[1])]\n",
    "vif_df = pd.DataFrame({'vif':vif[1:]}, index=x.columns)\n",
    "vif_df[vif_df['vif'] > 1].sort_values(by='vif', ascending=False).T"
   ]
  },
  {
   "cell_type": "code",
   "execution_count": null,
   "metadata": {},
   "outputs": [],
   "source": [
    "# corr_df = df.corr()\n",
    "# corr_df['free_throw_percentage'].sort_values(ascending=False)"
   ]
  },
  {
   "cell_type": "code",
   "execution_count": null,
   "metadata": {},
   "outputs": [],
   "source": [
    "# model.pvalues['free_throw_percentage']"
   ]
  },
  {
   "cell_type": "code",
   "execution_count": null,
   "metadata": {},
   "outputs": [],
   "source": [
    "model.summary()"
   ]
  },
  {
   "cell_type": "code",
   "execution_count": null,
   "metadata": {},
   "outputs": [],
   "source": []
  }
 ],
 "metadata": {
  "kernelspec": {
   "display_name": "Python 3",
   "language": "python",
   "name": "python3"
  },
  "language_info": {
   "codemirror_mode": {
    "name": "ipython",
    "version": 3
   },
   "file_extension": ".py",
   "mimetype": "text/x-python",
   "name": "python",
   "nbconvert_exporter": "python",
   "pygments_lexer": "ipython3",
   "version": "3.7.4"
  }
 },
 "nbformat": 4,
 "nbformat_minor": 2
}
